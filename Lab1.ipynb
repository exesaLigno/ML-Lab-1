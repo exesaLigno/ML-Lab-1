{
  "cells": [
    {
      "cell_type": "markdown",
      "metadata": {
        "id": "view-in-github",
        "colab_type": "text"
      },
      "source": [
        "<a href=\"https://colab.research.google.com/github/exesaLigno/ML-Lab-1/blob/main/Lab1.ipynb\" target=\"_parent\"><img src=\"https://colab.research.google.com/assets/colab-badge.svg\" alt=\"Open In Colab\"/></a>"
      ]
    },
    {
      "cell_type": "markdown",
      "source": [
        "# Дисклеймер\n",
        "\n",
        "Общее время выполнения всего блокнота составляет приблизительно **23 минуты** (больше при нестабильном соединении при установке библиотек и загрузке данных)."
      ],
      "metadata": {
        "id": "HqvFJvGIwJEW"
      }
    },
    {
      "cell_type": "markdown",
      "source": [
        "# Подготовка"
      ],
      "metadata": {
        "id": "WNoBy-LjwlzE"
      }
    },
    {
      "cell_type": "code",
      "source": [
        "!pip install python-mnist"
      ],
      "metadata": {
        "colab": {
          "base_uri": "https://localhost:8080/"
        },
        "id": "1ks0cFxIyYNV",
        "outputId": "c08a667f-bd9c-477f-f867-4cf5d928e22f"
      },
      "execution_count": 1,
      "outputs": [
        {
          "output_type": "stream",
          "name": "stdout",
          "text": [
            "Looking in indexes: https://pypi.org/simple, https://us-python.pkg.dev/colab-wheels/public/simple/\n",
            "Collecting python-mnist\n",
            "  Downloading python_mnist-0.7-py2.py3-none-any.whl (9.6 kB)\n",
            "Installing collected packages: python-mnist\n",
            "Successfully installed python-mnist-0.7\n"
          ]
        }
      ]
    },
    {
      "cell_type": "markdown",
      "source": [
        "## Получение задания"
      ],
      "metadata": {
        "id": "T4SfPsbIwpYt"
      }
    },
    {
      "cell_type": "code",
      "execution_count": 2,
      "metadata": {
        "id": "-tU_9YHnth66"
      },
      "outputs": [],
      "source": [
        "email = 'kartsev.vs@phystech.edu'"
      ]
    },
    {
      "cell_type": "code",
      "execution_count": 3,
      "metadata": {
        "colab": {
          "base_uri": "https://localhost:8080/"
        },
        "id": "nW_JVxH3tDMV",
        "outputId": "3200de07-20b0-44f2-908d-c70b324c156f"
      },
      "outputs": [
        {
          "output_type": "stream",
          "name": "stdout",
          "text": [
            "{'dataset': {'name': 'MNIST', 'url': 'http://yann.lecun.com/exdb/mnist/'},\n",
            " 'id': 3425420873,\n",
            " 'mail': 'kartsev.vs@phystech.edu',\n",
            " 'method': ['Метод потенциальных функций',\n",
            "            'k-ближайших соседей',\n",
            "            'Логистическая регрессия'],\n",
            " 'type': 'classification'}\n"
          ]
        }
      ],
      "source": [
        "from zlib import crc32\n",
        "import numpy as np\n",
        "from pprint import pprint\n",
        "\n",
        "types = ['regression', 'classification']\n",
        "datasets = {'regression': [{'name': 'Servo Data Set', 'url': 'https://archive.ics.uci.edu/ml/datasets/Servo'}, \n",
        "                           {'name': 'Forest Fires Data Set', 'url': 'https://archive.ics.uci.edu/ml/datasets/Forest+Fires'},\n",
        "                           {'name': 'Boston Housing Data Set', 'url': 'https://scikit-learn.org/stable/modules/generated/sklearn.datasets.load_boston.html#sklearn.datasets.load_boston'}, \n",
        "                           {'name': 'Diabetes Data Set', 'url': 'https://scikit-learn.org/stable/modules/generated/sklearn.datasets.load_diabetes.html#sklearn.datasets.load_diabetes'}],\n",
        "            'classification': [{'name': 'Spambase Data Set', 'url': 'https://archive.ics.uci.edu/ml/datasets/Spambase'}, \n",
        "                               {'name': 'Wine Data Set', 'url': 'https://scikit-learn.org/stable/modules/generated/sklearn.datasets.load_wine.html#sklearn.datasets.load_wine'}, \n",
        "                               {'name': 'Breast Cancer Data Set', 'url': 'https://scikit-learn.org/stable/modules/generated/sklearn.datasets.load_breast_cancer.html#sklearn.datasets.load_breast_cancer'}, \n",
        "                               {'name': 'MNIST', 'url': 'http://yann.lecun.com/exdb/mnist/'}]}\n",
        "methods = {'regression': ['Линейная регрессия', 'Перцептрон', 'Надарая-Ватсона', 'SVR'],\n",
        "           'classification': ['Логистическая регрессия', 'Перцептрон', 'k-ближайших соседей', 'Метод потенциальных функций', 'Метод Парзеновского окна', 'SVM']}\n",
        "\n",
        "task = dict()\n",
        "task['mail'] = email\n",
        "task['id'] = crc32(task['mail'].encode('utf-8'))\n",
        "np.random.seed(task['id'])\n",
        "task['type'] = np.random.choice(types)\n",
        "task['dataset'] = np.random.choice(datasets[task['type']])\n",
        "task['method'] = np.random.choice(\n",
        "  methods[task['type']], size=3, replace=False).tolist()\n",
        "\n",
        "pprint(task)"
      ]
    },
    {
      "cell_type": "markdown",
      "metadata": {
        "id": "pgnY_e5w4omx"
      },
      "source": [
        "## Импорт всего необходимого"
      ]
    },
    {
      "cell_type": "code",
      "execution_count": 4,
      "metadata": {
        "id": "py0oaTf2uyFl"
      },
      "outputs": [],
      "source": [
        "import progressbar\n",
        "import matplotlib.pyplot as plt\n",
        "from matplotlib import gridspec\n",
        "import seaborn as sns\n",
        "import pandas as pd\n",
        "import numpy as np\n",
        "\n",
        "from torchvision import datasets\n",
        "from torchvision import transforms\n",
        "\n",
        "import torch\n",
        "\n",
        "from scipy.spatial.distance import cdist\n",
        "from mlxtend.plotting import plot_decision_regions\n",
        "from datetime import datetime\n",
        "from pprint import pprint\n",
        "from progressbar.bar import ProgressBar\n",
        "\n",
        "from sklearn.decomposition import PCA\n",
        "\n",
        "from sklearn.neighbors import KNeighborsClassifier\n",
        "from sklearn.linear_model import LogisticRegression"
      ]
    },
    {
      "cell_type": "markdown",
      "source": [
        "При загрузке выборке скомпонируем преобразования Resize и ToTensor, чтобы уменьшить размер изображений и упростить процесс обучения для бесплатного коллаба."
      ],
      "metadata": {
        "id": "3NK_mspFeTEm"
      }
    },
    {
      "cell_type": "code",
      "execution_count": 5,
      "metadata": {
        "id": "3Z-7aVmCu9CE",
        "colab": {
          "base_uri": "https://localhost:8080/",
          "height": 423,
          "referenced_widgets": [
            "295baaa8552f43e88f01929ac8cd4d12",
            "f535ed3da47e4e91890ace27af6721dc",
            "ba45e3af5cd74ecaab4d4298bc032e8b",
            "bad96a98715445898cdcea5dd9e8bbdb",
            "480aef52859c4ea5aca01cd954c35d57",
            "0ea26000bdf345529d43d38055512851",
            "d0ec60f49f6f423190449f61164e8e5e",
            "a20608bd31e34f2ea2777b1b6267ec69",
            "4c3967876c764eeeb6858c8f10ab73ca",
            "bf0d3940da21493aa11f5d6540f9ba66",
            "85e61994a52748cbb137bcd745f3bc2f",
            "022004dff23a435ea5775f2d13f66e43",
            "c5b927b564c54019805e1e9ec36ef384",
            "d01a05dc05064d069acf9e25e723b5e1",
            "a8e20c2049024f3b88e67d9714657119",
            "b401985080c24c7eb0e2a00963b0e387",
            "f320f246bdee4f89be80268f06dc19ce",
            "bc1143b1b6394442897139ee6720a045",
            "8f19d29775f84f3a93d5681aa481dfcb",
            "e6a75c9fb4e049cc998c17f0b82a2068",
            "410b029685ea41eb9f2aeb93d8c59fed",
            "e528c30637284270b1d6a5a92aa451bd",
            "9e5671840a834427b3334650d1957401",
            "8acc43c16749435c9d88834feba148aa",
            "15727ef799264504aa27aad0df0406e3",
            "81711601feae4a6ab6b471a3069e6a38",
            "aa05d765cfca4c4095e058a01996c48b",
            "104057f1a7dc4ab18f93e1fcdc2c1c72",
            "8b44c753553f42cfa15f2d0d3d4649f5",
            "8f96d27c042a4337a4e3a69bd6e96907",
            "f971dc0e2b5f4b4bad026276d79e010d",
            "d338f7d2cba64b8a88ebb8395500b329",
            "e0eb71cbd06b40639b7b8a26925ed3b7",
            "6b5097f478144fb4baf238d6ffd27ad6",
            "1524ed6ea39340bf929cc89c9bb6643c",
            "29cfe311c8ef4f8898312278a5e44ff5",
            "9e7a69967a634c80a2deea573bcb1fa0",
            "29782cc59614436284066ab3e8892ef7",
            "a89cd654076543a8b8611993d428dff9",
            "49f73ef1c66f484b9894d7ee8810b6da",
            "2eae774a23a44019900e67fccd01df41",
            "dca2fc81bce142ef80dcd0855d6ebf7e",
            "2fd1e88f8c3147518c61ea82db0dcf33",
            "e4090b3c3c0643b7b188d41e8ac25fc9"
          ]
        },
        "outputId": "252f1c5e-f607-4d0c-9f74-cc990ed552d1"
      },
      "outputs": [
        {
          "output_type": "stream",
          "name": "stdout",
          "text": [
            "Downloading http://yann.lecun.com/exdb/mnist/train-images-idx3-ubyte.gz\n",
            "Downloading http://yann.lecun.com/exdb/mnist/train-images-idx3-ubyte.gz to ./mnist/MNIST/raw/train-images-idx3-ubyte.gz\n"
          ]
        },
        {
          "output_type": "display_data",
          "data": {
            "text/plain": [
              "  0%|          | 0/9912422 [00:00<?, ?it/s]"
            ],
            "application/vnd.jupyter.widget-view+json": {
              "version_major": 2,
              "version_minor": 0,
              "model_id": "295baaa8552f43e88f01929ac8cd4d12"
            }
          },
          "metadata": {}
        },
        {
          "output_type": "stream",
          "name": "stdout",
          "text": [
            "Extracting ./mnist/MNIST/raw/train-images-idx3-ubyte.gz to ./mnist/MNIST/raw\n",
            "\n",
            "Downloading http://yann.lecun.com/exdb/mnist/train-labels-idx1-ubyte.gz\n",
            "Downloading http://yann.lecun.com/exdb/mnist/train-labels-idx1-ubyte.gz to ./mnist/MNIST/raw/train-labels-idx1-ubyte.gz\n"
          ]
        },
        {
          "output_type": "display_data",
          "data": {
            "text/plain": [
              "  0%|          | 0/28881 [00:00<?, ?it/s]"
            ],
            "application/vnd.jupyter.widget-view+json": {
              "version_major": 2,
              "version_minor": 0,
              "model_id": "022004dff23a435ea5775f2d13f66e43"
            }
          },
          "metadata": {}
        },
        {
          "output_type": "stream",
          "name": "stdout",
          "text": [
            "Extracting ./mnist/MNIST/raw/train-labels-idx1-ubyte.gz to ./mnist/MNIST/raw\n",
            "\n",
            "Downloading http://yann.lecun.com/exdb/mnist/t10k-images-idx3-ubyte.gz\n",
            "Downloading http://yann.lecun.com/exdb/mnist/t10k-images-idx3-ubyte.gz to ./mnist/MNIST/raw/t10k-images-idx3-ubyte.gz\n"
          ]
        },
        {
          "output_type": "display_data",
          "data": {
            "text/plain": [
              "  0%|          | 0/1648877 [00:00<?, ?it/s]"
            ],
            "application/vnd.jupyter.widget-view+json": {
              "version_major": 2,
              "version_minor": 0,
              "model_id": "9e5671840a834427b3334650d1957401"
            }
          },
          "metadata": {}
        },
        {
          "output_type": "stream",
          "name": "stdout",
          "text": [
            "Extracting ./mnist/MNIST/raw/t10k-images-idx3-ubyte.gz to ./mnist/MNIST/raw\n",
            "\n",
            "Downloading http://yann.lecun.com/exdb/mnist/t10k-labels-idx1-ubyte.gz\n",
            "Downloading http://yann.lecun.com/exdb/mnist/t10k-labels-idx1-ubyte.gz to ./mnist/MNIST/raw/t10k-labels-idx1-ubyte.gz\n"
          ]
        },
        {
          "output_type": "display_data",
          "data": {
            "text/plain": [
              "  0%|          | 0/4542 [00:00<?, ?it/s]"
            ],
            "application/vnd.jupyter.widget-view+json": {
              "version_major": 2,
              "version_minor": 0,
              "model_id": "6b5097f478144fb4baf238d6ffd27ad6"
            }
          },
          "metadata": {}
        },
        {
          "output_type": "stream",
          "name": "stdout",
          "text": [
            "Extracting ./mnist/MNIST/raw/t10k-labels-idx1-ubyte.gz to ./mnist/MNIST/raw\n",
            "\n"
          ]
        }
      ],
      "source": [
        "train = datasets.MNIST('./mnist', train=True, download=True, \n",
        "                      transform=transforms.Compose([transforms.Resize([14,]), transforms.ToTensor()]))\n",
        "test = datasets.MNIST('./mnist', train=False, download=True, \n",
        "                      transform=transforms.Compose([transforms.Resize([14,]), transforms.ToTensor()]))"
      ]
    },
    {
      "cell_type": "markdown",
      "source": [
        "## Структура датасета\n",
        "\n",
        "Выборка представляет собой набор изображений с рукописными цифрами и ярлыками, соответствующими цифрам. \n",
        "Отобразим четыре случайных элемента выборки для ознакомления."
      ],
      "metadata": {
        "id": "ouQC3yaHdjye"
      }
    },
    {
      "cell_type": "code",
      "execution_count": 6,
      "metadata": {
        "colab": {
          "base_uri": "https://localhost:8080/",
          "height": 281
        },
        "id": "HeoyCrPo2sRR",
        "outputId": "7f7e4d57-9048-4e39-e88e-33b6b3b08cb1"
      },
      "outputs": [
        {
          "output_type": "display_data",
          "data": {
            "text/plain": [
              "<Figure size 1368x288 with 4 Axes>"
            ],
            "image/png": "[encoded data removed]"
          },
          "metadata": {
            "needs_background": "light"
          }
        }
      ],
      "source": [
        "fig, gs = plt.figure(figsize=(19,4)), gridspec.GridSpec(1, 4)\n",
        "\n",
        "ax = []\n",
        "\n",
        "for i in range(4):\n",
        "  ax.append(fig.add_subplot(gs[i]))\n",
        "  image_num = np.random.randint(0, 1000)\n",
        "  ax[i].imshow(np.array(train[image_num][0][0]), 'gray')\n",
        "  ax[i].title.set_text(f'Label: {train[image_num][1]}')\n",
        "\n",
        "plt.show()"
      ]
    },
    {
      "cell_type": "markdown",
      "source": [
        "## Вспомогательные функции\n",
        "\n",
        "Также напишем вспомогательные функции для отображения и анализа результатов."
      ],
      "metadata": {
        "id": "yFCbm7_BemXm"
      }
    },
    {
      "cell_type": "code",
      "execution_count": 7,
      "metadata": {
        "id": "RUSih4ixYNMa"
      },
      "outputs": [],
      "source": [
        "def validate(model, test_X, test_Y, show_table = True):\n",
        "  predicted_Y = model.predict(test_X)\n",
        "\n",
        "  correct = 0\n",
        "  errors = []\n",
        "\n",
        "  results = [[0 for _ in range(10)] for _ in range(10)]\n",
        "  for number, (predicted, real) in enumerate(zip(predicted_Y, test_Y)):\n",
        "    if predicted == real: correct += 1\n",
        "    else: errors.append({'label': real.item(), 'prediction': predicted, 'image': test_X[number]})\n",
        "    results[predicted-1][real-1] += 1\n",
        "\n",
        "  if show_table:\n",
        "    print('labels:        0    1    2    3    4    5    6    7    8    9')\n",
        "    for l in range(10):\n",
        "      print(f'predicted {l} ', end='')\n",
        "      for c in range(10):\n",
        "        print(f'{results[l][c]:4d}', end = ' ')\n",
        "      print()\n",
        "\n",
        "  print(f'Correctness: {(correct / len(predicted_Y) * 100):.1f}%')\n",
        "\n",
        "  return correct / len(predicted_Y) * 100, errors\n",
        "\n",
        "def showErrors(error_list, error_count, random=True):\n",
        "  fig, gs = plt.figure(figsize=(5*error_count,4)), gridspec.GridSpec(1, error_count)\n",
        "\n",
        "  ax = []\n",
        "\n",
        "  if random:\n",
        "    errors = np.random.choice(error_list, error_count)\n",
        "  else:\n",
        "    errors = error_list[0:error_count]\n",
        "\n",
        "  for i, error in enumerate(errors):\n",
        "    ax.append(fig.add_subplot(gs[i]))\n",
        "    ax[i].imshow(np.array(error['image'].reshape(14,14)), 'gray')\n",
        "    label = error['label']\n",
        "    prediction = error['prediction']\n",
        "    ax[i].title.set_text(f'{label} perceived as {prediction}')\n",
        "\n",
        "  plt.show()"
      ]
    },
    {
      "cell_type": "markdown",
      "source": [
        "Создадим функции, преобразующие изображения в вектора признаков."
      ],
      "metadata": {
        "id": "ICECPPjOap9X"
      }
    },
    {
      "cell_type": "code",
      "source": [
        "# Simple image tensor reshaping\n",
        "def image2Vector(image):\n",
        "  return image.reshape(1,-1)\n",
        "\n",
        "#reshaping with converting to 'bool' with treshold\n",
        "def image2BoolVector(image, treshold = 40):\n",
        "  vector = image.reshape(1,-1)\n",
        "  for i in range(len(vector[0])):\n",
        "    vector[0][i] = 255 if vector[0][i] >= treshold else 0\n",
        "  return vector\n",
        "\n",
        "def image2VectorPCA(image):\n",
        "  return None\n",
        "\n",
        "def getPreparedDataset(dataset, selection=1, selection_start=0, converter=image2Vector):\n",
        "  if converter.__name__ == 'image2VectorPCA':\n",
        "    pca = PCA(196)\n",
        "    return pca.fit_transform(dataset.data.view([-1, 784]).cpu().numpy()), dataset.targets.cpu().numpy()\n",
        "\n",
        "  Y = []\n",
        "  X = None\n",
        "\n",
        "  for number, (image, label) in enumerate(dataset):\n",
        "    if number % selection == selection_start:\n",
        "      features = converter(image)\n",
        "      if X == None:\n",
        "        X = features\n",
        "      else:\n",
        "        X = torch.vstack((X, features))\n",
        "      Y.append(label)\n",
        "\n",
        "  Y = torch.tensor(Y)\n",
        "\n",
        "  return X, Y"
      ],
      "metadata": {
        "id": "BF-f-2yNapUe"
      },
      "execution_count": 8,
      "outputs": []
    },
    {
      "cell_type": "markdown",
      "source": [
        "## Поиск подходящих конвертеров в признаки\n",
        "\n",
        "Протестируем написанные функции перевода изображения в признаки, собрав небольшие обучающую и тренировочную выборки и обучив модель KNN на них."
      ],
      "metadata": {
        "id": "HL301O4dhdo2"
      }
    },
    {
      "cell_type": "code",
      "source": [
        "featuresConverters = [image2Vector, image2BoolVector, image2VectorPCA]\n",
        "\n",
        "max_correctness = 0\n",
        "opt_converter = None\n",
        "\n",
        "for converter in featuresConverters:\n",
        "  print(f'{converter.__name__} converter:', end=' ')\n",
        "\n",
        "  tiny_train_X, tiny_train_Y = getPreparedDataset(train, selection=50, converter=converter)\n",
        "  tiny_test_X, tiny_test_Y = getPreparedDataset(test, selection=20, converter=converter)\n",
        "\n",
        "  model = KNeighborsClassifier(n_neighbors=6)\n",
        "  model.fit(tiny_train_X, tiny_train_Y)\n",
        "  correctness, _ = validate(model, tiny_test_X, tiny_test_Y, show_table=False)\n",
        "\n",
        "  if correctness > max_correctness:\n",
        "    max_correctness = correctness\n",
        "    opt_converter = converter\n",
        "\n",
        "print(f'Best result ({max_correctness:.1f}%) reached with {opt_converter.__name__} converter')"
      ],
      "metadata": {
        "colab": {
          "base_uri": "https://localhost:8080/"
        },
        "id": "V3BCnyRjiDyP",
        "outputId": "6b787e9b-e4a7-4d4e-9fa6-0d86968e6a3b"
      },
      "execution_count": 9,
      "outputs": [
        {
          "output_type": "stream",
          "name": "stdout",
          "text": [
            "image2Vector converter: Correctness: 90.4%\n",
            "image2BoolVector converter: Correctness: 7.6%\n",
            "image2VectorPCA converter: Correctness: 13.8%\n",
            "Best result (90.4%) reached with image2Vector converter\n"
          ]
        }
      ]
    },
    {
      "cell_type": "markdown",
      "source": [
        "В результате тестирования выяснилось, что наиболее оптимальный вариант перевода в признаки - простое изменение формы. \n",
        "\n",
        "> *Во время выполнения каждый из методов был испробован в различных вариациях с полным набором данных, ячейка кода выше лишь демонстрирует мысль.*\n",
        "\n",
        "<details>\n",
        "  <summary>Шутка</summary>\n",
        "  Второй функции следует отдать должное за точность меньше 10% на классификации с 10 классами\n",
        "</details>"
      ],
      "metadata": {
        "id": "IUuXP4kHoBW-"
      }
    },
    {
      "cell_type": "markdown",
      "source": [
        "## Нормировка \n",
        "\n",
        "В данном случае в качестве вектора признаков передается массив байтов, имеющих значения строго в диапазоне $[0, 255]$. Отсюда можно сделать вывод, что все признаки меняются в одном и том же диапазоне и нормировка в данном случае не требуется."
      ],
      "metadata": {
        "id": "IX4pcSYDznkR"
      }
    },
    {
      "cell_type": "markdown",
      "source": [
        "## Генерация выборок\n",
        "\n",
        "Соберем тренировочную и обучающую выборки и преобразуем в формат, пригодный для обучения. \n",
        "\n",
        "В случае тренировочной выборки будем брать каждый пятый элемент, так как в ходе экспериментов выяснилось, что наилучшего результата можно добиться при размерности вектора признаков $N \\geqslant 100$. В таком случае тренировочная выборка будет иметь размер $[60000, 100]$, что приведет к нехватке оперативной памяти.\n",
        "\n",
        "Так, в результате преобразований получим тренировочную выборку размера $[12000, 196]$."
      ],
      "metadata": {
        "id": "3ocm157iezVe"
      }
    },
    {
      "cell_type": "code",
      "source": [
        "train_X, train_Y = getPreparedDataset(train, selection = 5)\n",
        "test_X, test_Y = getPreparedDataset(test, selection = 1)\n",
        "test_X_from_train, test_Y_from_train = getPreparedDataset(train, selection=10, selection_start=1)\n",
        "\n",
        "print(f'Train_X shape is {train_X.shape[0]}x{train_X.shape[1]}; train_Y shape is {train_Y.shape[0]}')\n",
        "print(f'Test_X shape is {test_X.shape[0]}x{test_X.shape[1]}; test_Y shape is {test_Y.shape[0]}')"
      ],
      "metadata": {
        "colab": {
          "base_uri": "https://localhost:8080/"
        },
        "id": "YK3DhoKuevBv",
        "outputId": "76e986bc-dceb-4666-d0ac-94462c6530e4"
      },
      "execution_count": 10,
      "outputs": [
        {
          "output_type": "stream",
          "name": "stdout",
          "text": [
            "Train_X shape is 12000x196; train_Y shape is 12000\n",
            "Test_X shape is 10000x196; test_Y shape is 10000\n"
          ]
        }
      ]
    },
    {
      "cell_type": "markdown",
      "metadata": {
        "id": "GEVWBwc95AGf"
      },
      "source": [
        "# Метод потенциальных функций"
      ]
    },
    {
      "cell_type": "markdown",
      "source": [
        "Реализуем модель для метода потенциальных функций."
      ],
      "metadata": {
        "id": "s5tjBOHsf4bF"
      }
    },
    {
      "cell_type": "code",
      "execution_count": 11,
      "metadata": {
        "id": "lnQweugOWJZ6"
      },
      "outputs": [],
      "source": [
        "class PFM(object):\n",
        "  def __init__(self, kernel=None):\n",
        "    self.X, self.Y, self.gams = None, None, None\n",
        "    self.kernel = lambda x: np.ones_like(x)\n",
        "    if kernel is not None:\n",
        "      self.kernel = kernel\n",
        "\n",
        "  def scores(self, X):\n",
        "    features = self.gams * self.kernel(cdist(X, self.X))\n",
        "    scores = np.vstack([np.sum(features.T[np.where(self.Y==cls)[0]].T, axis=-1) for cls in range(10)]).T\n",
        "    return scores\n",
        "\n",
        "  def predict(self, X):\n",
        "    return np.argmax(self.scores(X), axis=-1)\n",
        "\n",
        "  def fit(self, X, Y, epoch=10, silent=False):\n",
        "    self.X, self.Y, self.gams = np.array(X), np.array(Y), np.zeros_like(Y)\n",
        "\n",
        "    if not silent: print('\\nStarted fitting')\n",
        "\n",
        "    for ep in range(epoch):\n",
        "      last_percent = 0\n",
        "\n",
        "      if not silent: pb = ProgressBar(1, 100, prefix=f'Epoch {ep} |').start()\n",
        "\n",
        "      for i, (x, y) in enumerate(zip(self.X, self.Y)):\n",
        "        percent = int(i / len(self.X) * 100)\n",
        "        if epoch == 1 and percent != last_percent:\n",
        "          if not silent: pb.update(percent)\n",
        "          last_percent = percent \n",
        "        if self.predict(np.array([x]))[0] != y:\n",
        "          self.gams[i] += 1\n",
        "\n",
        "      if not silent: pb.finish()"
      ]
    },
    {
      "cell_type": "code",
      "execution_count": 12,
      "metadata": {
        "id": "1YQBaqbFbOw2"
      },
      "outputs": [],
      "source": [
        "def K(distance, h=6):\n",
        "  ret = np.array(distance)/h\n",
        "  return (1 - ret**2) * (np.abs(ret) <= 1)"
      ]
    },
    {
      "cell_type": "markdown",
      "source": [
        "Проварьируем `h` до получения наилучшей точности."
      ],
      "metadata": {
        "id": "a6o3XBnIgoEe"
      }
    },
    {
      "cell_type": "code",
      "source": [
        "max_correctness = 0\n",
        "opt_h = 0\n",
        "\n",
        "for h in [2, 2.5, 3, 3.5, 4]:\n",
        "  print(f'h={h}:', end=' ')\n",
        "\n",
        "  model = PFM(kernel=lambda x: K(x, h=h))\n",
        "  model.fit(train_X, train_Y, epoch=1, silent=True)\n",
        "\n",
        "  correctness, _ = validate(model, test_X, test_Y, show_table=False)\n",
        "\n",
        "  if correctness > max_correctness:\n",
        "    max_correctness = correctness\n",
        "    opt_h = h\n",
        "\n",
        "print(f'Best result ({max_correctness:.1f}%) reached with h={opt_h}')"
      ],
      "metadata": {
        "colab": {
          "base_uri": "https://localhost:8080/"
        },
        "id": "wVSyRYLDgnOW",
        "outputId": "09d735c8-929f-45e6-ac6c-34d8d2ef1fe6"
      },
      "execution_count": 13,
      "outputs": [
        {
          "output_type": "stream",
          "name": "stdout",
          "text": [
            "h=2: Correctness: 84.8%\n",
            "h=2.5: Correctness: 92.8%\n",
            "h=3: Correctness: 93.4%\n",
            "h=3.5: Correctness: 91.3%\n",
            "h=4: Correctness: 88.3%\n",
            "Best result (93.4%) reached with h=3\n"
          ]
        }
      ]
    },
    {
      "cell_type": "markdown",
      "source": [
        "Обучим модель с найденым параметром h.\n",
        "\n",
        "_Что не так с индикатором прогресса, я так и не понял, его быть не должно..._"
      ],
      "metadata": {
        "id": "h_Sr1SOYhfOX"
      }
    },
    {
      "cell_type": "code",
      "execution_count": 14,
      "metadata": {
        "colab": {
          "base_uri": "https://localhost:8080/"
        },
        "id": "FYBx4LR6pa46",
        "outputId": "ba71ba1c-1bec-4beb-ed5e-61053bb8275f"
      },
      "outputs": [
        {
          "output_type": "stream",
          "name": "stderr",
          "text": [
            "\r                                                                               \r\rEpoch 0 |N/A% (1 of 100) |               | Elapsed Time: 0:00:00 ETA:  --:--:--"
          ]
        },
        {
          "output_type": "stream",
          "name": "stdout",
          "text": [
            "\n",
            "Started fitting\n"
          ]
        },
        {
          "output_type": "stream",
          "name": "stderr",
          "text": [
            "Epoch 0 |100% (100 of 100) |#############| Elapsed Time: 0:01:08 Time:  0:01:08\n"
          ]
        }
      ],
      "source": [
        "model = PFM(kernel=lambda x: K(x, h=opt_h))\n",
        "model.fit(train_X, train_Y, epoch=1)"
      ]
    },
    {
      "cell_type": "markdown",
      "source": [
        "Проверим работу обученной модели на тестовой выборке."
      ],
      "metadata": {
        "id": "US95xECdhi3X"
      }
    },
    {
      "cell_type": "code",
      "execution_count": 15,
      "metadata": {
        "colab": {
          "base_uri": "https://localhost:8080/"
        },
        "id": "nJRG-yNdbROn",
        "outputId": "587b9d81-ef6c-453e-db23-a1349537646a"
      },
      "outputs": [
        {
          "output_type": "stream",
          "name": "stdout",
          "text": [
            "labels:        0    1    2    3    4    5    6    7    8    9\n",
            "predicted 0 1112    1    1    0    2    3    5    0    1    0 \n",
            "predicted 1    4  941    3    0    2    1   21    4    0    2 \n",
            "predicted 2    4   12  944    0   26    0    2   21    7    0 \n",
            "predicted 3    1    6    0  902    7   17    7    7   14    0 \n",
            "predicted 4    2    1   18    1  816   12    0   16    5   18 \n",
            "predicted 5    2   15    0    8    8  905    0    9    0   10 \n",
            "predicted 6    1   10    6    0    2    1  937    5   13    1 \n",
            "predicted 7    8   22   18    5    8    9    5  885    5    4 \n",
            "predicted 8    1    4   17   64   15    0   51   22  960    3 \n",
            "predicted 9    0   20    3    2    6   10    0    5    4  942 \n",
            "Correctness: 93.4%\n"
          ]
        }
      ],
      "source": [
        "PFM_correctness, PFM_errors = validate(model, test_X, test_Y)"
      ]
    },
    {
      "cell_type": "markdown",
      "source": [
        "А также на тестовой выборке, полученной из той части тренировочной, которую мы не использовали в процессе обучения."
      ],
      "metadata": {
        "id": "iu_K1EwMh0h-"
      }
    },
    {
      "cell_type": "code",
      "execution_count": 16,
      "metadata": {
        "colab": {
          "base_uri": "https://localhost:8080/"
        },
        "id": "517B4mGkTeoL",
        "outputId": "48a4b79c-00a2-4997-ae05-6d727c445286"
      },
      "outputs": [
        {
          "output_type": "stream",
          "name": "stdout",
          "text": [
            "labels:        0    1    2    3    4    5    6    7    8    9\n",
            "predicted 0  663    3    0    0    3    1    0    3    0    0 \n",
            "predicted 1    0  562    1    5    0    3    3    1    0    5 \n",
            "predicted 2    0    5  616    0    4    0    0    6    0    0 \n",
            "predicted 3    0    4    0  540    1    6    1    4    8    0 \n",
            "predicted 4    0    5   11    1  476    3    1    5    0    2 \n",
            "predicted 5    1    1    1    1   10  585    0    0    0    6 \n",
            "predicted 6    4    4    2    0    0    0  610    2   14    1 \n",
            "predicted 7    5    7   19    4    3    0    4  579    4    2 \n",
            "predicted 8    1    2    6   25    3    0   29    8  544    3 \n",
            "predicted 9    0    8    2    1    2    2    0    2    0  541 \n",
            "Correctness: 95.3%\n"
          ]
        }
      ],
      "source": [
        "_ = validate(model, test_X_from_train, test_Y_from_train)"
      ]
    },
    {
      "cell_type": "markdown",
      "source": [
        "В первом и втором случае была получена высокая точность распознавания цифр ($93.4\\%$ и $95.3\\%$ соответственно)."
      ],
      "metadata": {
        "id": "DRchSpquiJ_9"
      }
    },
    {
      "cell_type": "markdown",
      "metadata": {
        "id": "pIKEvQi7URXK"
      },
      "source": [
        "# K ближайших соседей"
      ]
    },
    {
      "cell_type": "markdown",
      "source": [
        "Введем весовую функцию для метода K ближайших соседей."
      ],
      "metadata": {
        "id": "kZWMxwt7gFpW"
      }
    },
    {
      "cell_type": "code",
      "execution_count": 17,
      "metadata": {
        "id": "98w_Ow2kYHxW"
      },
      "outputs": [],
      "source": [
        "def weight_function(distance):\n",
        "  ret = np.ones_like(distance)\n",
        "  k = ret.shape[1]\n",
        "  for i in range(k):\n",
        "    ret[:, i] *= (k-i)/k\n",
        "  return ret"
      ]
    },
    {
      "cell_type": "markdown",
      "source": [
        "Проварьируем `n_neighbors` и выясним, с каким значением будет получена наивысшая точность на тестовой выборке.\n",
        "\n",
        "От переобучения в случае KNN защищает увеличение числа соседей, на основе которых будет приниматься решение."
      ],
      "metadata": {
        "id": "jIMA60CjgLU-"
      }
    },
    {
      "cell_type": "code",
      "execution_count": 18,
      "metadata": {
        "colab": {
          "base_uri": "https://localhost:8080/"
        },
        "id": "8XnXLFeOYIof",
        "outputId": "7849bfe2-ad41-45c3-c5a5-24378503cabc"
      },
      "outputs": [
        {
          "output_type": "stream",
          "name": "stdout",
          "text": [
            "1 neighbors: Correctness: 95.9%\n",
            "2 neighbors: Correctness: 95.9%\n",
            "3 neighbors: Correctness: 96.2%\n",
            "4 neighbors: Correctness: 96.3%\n",
            "5 neighbors: Correctness: 96.4%\n",
            "6 neighbors: Correctness: 96.4%\n",
            "7 neighbors: Correctness: 96.4%\n",
            "8 neighbors: Correctness: 96.4%\n",
            "9 neighbors: Correctness: 96.4%\n",
            "10 neighbors: Correctness: 96.3%\n",
            "11 neighbors: Correctness: 96.3%\n",
            "12 neighbors: Correctness: 96.3%\n",
            "13 neighbors: Correctness: 96.2%\n",
            "14 neighbors: Correctness: 96.2%\n",
            "15 neighbors: Correctness: 96.1%\n",
            "16 neighbors: Correctness: 96.0%\n",
            "17 neighbors: Correctness: 95.9%\n",
            "18 neighbors: Correctness: 95.9%\n",
            "19 neighbors: Correctness: 95.8%\n",
            "20 neighbors: Correctness: 95.8%\n",
            "Best result (96.4%) reached with 6 neighbors\n"
          ]
        }
      ],
      "source": [
        "max_correctness, best_neighbors_count = 0, 0\n",
        "\n",
        "for neighbors_count in range(1, 21):\n",
        "  print(f'{neighbors_count} neighbors:', end=' ')\n",
        "\n",
        "  model = KNeighborsClassifier(n_neighbors=neighbors_count, weights=weight_function)\n",
        "  model.fit(train_X, train_Y)\n",
        "  \n",
        "  correctness, _ = validate(model, test_X, test_Y, show_table=False)\n",
        "  if correctness > max_correctness:\n",
        "    max_correctness = correctness\n",
        "    best_neighbors_count = neighbors_count\n",
        "\n",
        "print(f'Best result ({max_correctness:.1f}%) reached with {best_neighbors_count} neighbors')"
      ]
    },
    {
      "cell_type": "markdown",
      "source": [
        "Проверим работу модели при оптимальном количестве соседей."
      ],
      "metadata": {
        "id": "CMu5bUoLiCA9"
      }
    },
    {
      "cell_type": "code",
      "execution_count": 19,
      "metadata": {
        "colab": {
          "base_uri": "https://localhost:8080/"
        },
        "id": "q4tiIGd_UVQZ",
        "outputId": "5fbea018-4e9a-472e-9765-c76386daaa7d"
      },
      "outputs": [
        {
          "output_type": "stream",
          "name": "stdout",
          "text": [
            "labels:        0    1    2    3    4    5    6    7    8    9\n",
            "predicted 0 1128    1    2    1    0    4   18    1    6    1 \n",
            "predicted 1    2  983    3    0    0    0   11    3    1    1 \n",
            "predicted 2    1    1  968    0   14    0    1    9    7    0 \n",
            "predicted 3    0    4    1  931    1    3    3    4   10    0 \n",
            "predicted 4    0    1   13    0  851    2    0   10    5    1 \n",
            "predicted 5    4    3    0    8   12  945    0    3    1    4 \n",
            "predicted 6    0   19    6    1    2    0  974    5    8    1 \n",
            "predicted 7    0    7   12    1    4    0    0  926    4    0 \n",
            "predicted 8    0    3    5   40    5    0   21    8  965    0 \n",
            "predicted 9    0   10    0    0    3    4    0    5    2  972 \n",
            "Correctness: 96.4%\n"
          ]
        }
      ],
      "source": [
        "model = KNeighborsClassifier(n_neighbors=best_neighbors_count, weights=weight_function)\n",
        "model.fit(train_X, train_Y)\n",
        "\n",
        "KNN_correctness, KNN_errors = validate(model, test_X, test_Y)"
      ]
    },
    {
      "cell_type": "markdown",
      "source": [
        "Была получена очень хорошая точность распознавания ($96.4\\%$)."
      ],
      "metadata": {
        "id": "FbVD0eD8idNN"
      }
    },
    {
      "cell_type": "markdown",
      "metadata": {
        "id": "PcNSR1_wmDcp"
      },
      "source": [
        "# Логистическая регрессия"
      ]
    },
    {
      "cell_type": "markdown",
      "source": [
        "В данном случае будем использовать регуляризатор `elasticnet`, комбинирующий `l1`-регуляризацию и `l2`-регуляризацию. Регуляризация поможет избежать переобучения и повысит качество результатов.\n",
        "\n",
        "Проварьируем параметр `l1_ratio` до получения наивысшей точности распознования."
      ],
      "metadata": {
        "id": "CGieF2u7ii7t"
      }
    },
    {
      "cell_type": "code",
      "execution_count": 20,
      "metadata": {
        "colab": {
          "base_uri": "https://localhost:8080/"
        },
        "id": "A8S5fNJbmS26",
        "outputId": "3676f733-7429-4638-bbc2-ab35e5cc0664"
      },
      "outputs": [
        {
          "output_type": "stream",
          "name": "stdout",
          "text": [
            "l1_ratio=0.43: Correctness: 92.1%\n",
            "l1_ratio=0.452: Correctness: 92.1%\n",
            "l1_ratio=0.455: Correctness: 92.1%\n",
            "l1_ratio=0.459: Correctness: 92.1%\n",
            "l1_ratio=0.55: Correctness: 92.1%\n",
            "l1_ratio=0.7: Correctness: 92.0%\n",
            "Best result (92.1) reached with l1_ratio=0.455\n"
          ]
        }
      ],
      "source": [
        "max_correctness = 0\n",
        "opt_l1_ratio = 0\n",
        "\n",
        "# for solver, avaliable_penalties in [('newton-cg', ['l2', 'none']), \n",
        "#                                     ('lbfgs', ['l2', 'none']), \n",
        "#                                     ('liblinear', ['l1', 'l2']), \n",
        "#                                     ('sag', ['l2', 'none']), \n",
        "#                                     ('saga', ['elasticnet', 'l1', 'l2', 'none'])]:\n",
        "\n",
        "for l1_ratio in [0.43, 0.452, 0.455, 0.459, 0.55, 0.7]:\n",
        "  print(f'l1_ratio={l1_ratio}:', end=' ')\n",
        "\n",
        "  model = LogisticRegression(solver='saga', penalty='elasticnet', l1_ratio=l1_ratio, max_iter=1000, )\n",
        "  model.fit(train_X, train_Y)\n",
        "\n",
        "  correctness, _ = validate(model, test_X, test_Y, show_table=False)\n",
        "\n",
        "  if correctness > max_correctness:\n",
        "    max_correctness = correctness\n",
        "    opt_l1_ratio = l1_ratio\n",
        "\n",
        "print(f'Best result ({max_correctness:.1f}) reached with l1_ratio={opt_l1_ratio}')"
      ]
    },
    {
      "cell_type": "markdown",
      "source": [
        "Проверим работу модели с лучшим `l1_ratio`."
      ],
      "metadata": {
        "id": "FIoTdBJuiwqt"
      }
    },
    {
      "cell_type": "code",
      "source": [
        "model = LogisticRegression(solver='saga', penalty='elasticnet', l1_ratio=opt_l1_ratio, max_iter=1000)\n",
        "model.fit(train_X, train_Y)\n",
        "LR_correctness, LR_errors = validate(model, test_X, test_Y)"
      ],
      "metadata": {
        "colab": {
          "base_uri": "https://localhost:8080/"
        },
        "id": "XPQkr7ZRbyyH",
        "outputId": "dd1ca531-c26e-4ef4-c160-32a33ec0fd0a"
      },
      "execution_count": 21,
      "outputs": [
        {
          "output_type": "stream",
          "name": "stdout",
          "text": [
            "labels:        0    1    2    3    4    5    6    7    8    9\n",
            "predicted 0 1113    9    1    3    3    3   11   10    8    0 \n",
            "predicted 1    2  923   22    2    6    8   28    9    2    1 \n",
            "predicted 2    2   12  916    1   40    1    7   24    9    2 \n",
            "predicted 3    0   12    2  910    9   10    6   10   28    0 \n",
            "predicted 4    2    4   25    2  767   10    1   35    7    4 \n",
            "predicted 5    3   14    3   13   17  908    0    9    0   10 \n",
            "predicted 6    2    8   10    2    5    1  943    8   22    1 \n",
            "predicted 7   11   32   20    6   30    3    1  854    6    1 \n",
            "predicted 8    0    8    8   41    7    0   29    8  917    1 \n",
            "predicted 9    0   10    3    2    8   14    2    7   10  960 \n",
            "Correctness: 92.1%\n"
          ]
        }
      ]
    },
    {
      "cell_type": "markdown",
      "source": [
        "# Результаты\n",
        "\n",
        "Каждая из полученных моделей обладает высоким уровнем точности, что позволяет получать корректные результаты при использовании обученных моделей."
      ],
      "metadata": {
        "id": "cX0Wx5rGyqh0"
      }
    },
    {
      "cell_type": "markdown",
      "source": [
        "## Точность методов\n",
        "\n",
        "Приведем результаты работы каждого из методов в таблице\n",
        "\n",
        "|            Метод            | Точность | Ошибка |\n",
        "|:---------------------------:|:--------:|:------:|\n",
        "| Метод потенциальных функций |   93.4%  |  6.6%  |\n",
        "|     K ближайших соседей     |   96.4%  |  3.6%  |\n",
        "|   Логистическая регрессия   |   92.1%  |  7.9%  |\n",
        "\n",
        "Исходя из таблицы можно понять, что для решения данной задачи из предложенных наиболее подходит метод **K ближайших соседей** с весовой функцией, так как в этом случае удалось получить наибольшую точность\n",
        "\n"
      ],
      "metadata": {
        "id": "gdAtl2lGytVk"
      }
    },
    {
      "cell_type": "markdown",
      "source": [
        "## Типичные ошибки\n",
        "\n",
        "В каждом из методов прослеживается приблизительно одинаковый паттерн допускаемых ошибок. Лидерами по количеству ошибок стали следующие пары\n",
        "\n",
        "| Цифра | Предсказание |\n",
        "|:-----:|:------------:|\n",
        "|   3   |       8      |\n",
        "|   6   |       8      |\n",
        "|   1   |       7      |\n",
        "|   4   |       2      |\n",
        "|   4   |       9      |\n",
        "\n",
        "Ошибки в таких случаях объяснимы внешней схожестью цифр с ошибочной классификацией\n",
        "\n",
        "Рассмотрим также типичные ошибки распознания на примере метода **K ближайших соседей**, так как в нем среди ошибок присутствуют по большей части именно перепутанные схожие по начертанию символы\n"
      ],
      "metadata": {
        "id": "s0YU194l28M9"
      }
    },
    {
      "cell_type": "code",
      "source": [
        "showErrors(KNN_errors, 4, random=False)"
      ],
      "metadata": {
        "colab": {
          "base_uri": "https://localhost:8080/",
          "height": 281
        },
        "id": "91if9TpF4FKO",
        "outputId": "25fc90f3-fb6c-4577-b5b4-92aa83483499"
      },
      "execution_count": 22,
      "outputs": [
        {
          "output_type": "display_data",
          "data": {
            "text/plain": [
              "<Figure size 1440x288 with 4 Axes>"
            ],
            "image/png": "[encoded data removed]"
          },
          "metadata": {
            "needs_background": "light"
          }
        }
      ]
    },
    {
      "cell_type": "markdown",
      "source": [
        "## Проблемы\n",
        "\n",
        "В ходе выполнения работы возникли следующие проблемы\n",
        "\n",
        "1. Понижение точности при попытке существенно уменьшить размерность входных данных. В результате наибольшая точность была достигнута при при использовании в качестве входных данных исходного изображения $14 \\times 14$, преобразованного в столбец размера $1 \\times 196$\n",
        "2. Нехватка оперативной памяти. При использовании большого числа признаков не хватает оперативной памяти в бесплатном Colab. Для решения проблемы тренировочная выборка была сокращена с $60000$ элементов до $12000$ элементов. В теории возможно работать с выборкой длиной $20000$ элементов, но результат будет непредсказуем из-за почти полного заполнения опертивной памяти"
      ],
      "metadata": {
        "id": "JXWlMzv-8PZ1"
      }
    }
  ],
  "metadata": {
    "colab": {
      "collapsed_sections": [],
      "provenance": [],
      "toc_visible": true,
      "authorship_tag": "ABX9TyOGp327EPWyTeN5ov8/JRqq",
      "include_colab_link": true
    },
    "kernelspec": {
      "display_name": "Python 3",
      "name": "python3"
    },
    "language_info": {
      "name": "python"
    },
    "widgets": {
      "application/vnd.jupyter.widget-state+json": {
        "295baaa8552f43e88f01929ac8cd4d12": {
          "model_module": "@jupyter-widgets/controls",
          "model_name": "HBoxModel",
          "model_module_version": "1.5.0",
          "state": {
            "_dom_classes": [],
            "_model_module": "@jupyter-widgets/controls",
            "_model_module_version": "1.5.0",
            "_model_name": "HBoxModel",
            "_view_count": null,
            "_view_module": "@jupyter-widgets/controls",
            "_view_module_version": "1.5.0",
            "_view_name": "HBoxView",
            "box_style": "",
            "children": [
              "IPY_MODEL_f535ed3da47e4e91890ace27af6721dc",
              "IPY_MODEL_ba45e3af5cd74ecaab4d4298bc032e8b",
              "IPY_MODEL_bad96a98715445898cdcea5dd9e8bbdb"
            ],
            "layout": "IPY_MODEL_480aef52859c4ea5aca01cd954c35d57"
          }
        },
        "f535ed3da47e4e91890ace27af6721dc": {
          "model_module": "@jupyter-widgets/controls",
          "model_name": "HTMLModel",
          "model_module_version": "1.5.0",
          "state": {
            "_dom_classes": [],
            "_model_module": "@jupyter-widgets/controls",
            "_model_module_version": "1.5.0",
            "_model_name": "HTMLModel",
            "_view_count": null,
            "_view_module": "@jupyter-widgets/controls",
            "_view_module_version": "1.5.0",
            "_view_name": "HTMLView",
            "description": "",
            "description_tooltip": null,
            "layout": "IPY_MODEL_0ea26000bdf345529d43d38055512851",
            "placeholder": "​",
            "style": "IPY_MODEL_d0ec60f49f6f423190449f61164e8e5e",
            "value": "100%"
          }
        },
        "ba45e3af5cd74ecaab4d4298bc032e8b": {
          "model_module": "@jupyter-widgets/controls",
          "model_name": "FloatProgressModel",
          "model_module_version": "1.5.0",
          "state": {
            "_dom_classes": [],
            "_model_module": "@jupyter-widgets/controls",
            "_model_module_version": "1.5.0",
            "_model_name": "FloatProgressModel",
            "_view_count": null,
            "_view_module": "@jupyter-widgets/controls",
            "_view_module_version": "1.5.0",
            "_view_name": "ProgressView",
            "bar_style": "success",
            "description": "",
            "description_tooltip": null,
            "layout": "IPY_MODEL_a20608bd31e34f2ea2777b1b6267ec69",
            "max": 9912422,
            "min": 0,
            "orientation": "horizontal",
            "style": "IPY_MODEL_4c3967876c764eeeb6858c8f10ab73ca",
            "value": 9912422
          }
        },
        "bad96a98715445898cdcea5dd9e8bbdb": {
          "model_module": "@jupyter-widgets/controls",
          "model_name": "HTMLModel",
          "model_module_version": "1.5.0",
          "state": {
            "_dom_classes": [],
            "_model_module": "@jupyter-widgets/controls",
            "_model_module_version": "1.5.0",
            "_model_name": "HTMLModel",
            "_view_count": null,
            "_view_module": "@jupyter-widgets/controls",
            "_view_module_version": "1.5.0",
            "_view_name": "HTMLView",
            "description": "",
            "description_tooltip": null,
            "layout": "IPY_MODEL_bf0d3940da21493aa11f5d6540f9ba66",
            "placeholder": "​",
            "style": "IPY_MODEL_85e61994a52748cbb137bcd745f3bc2f",
            "value": " 9912422/9912422 [00:00&lt;00:00, 29237248.26it/s]"
          }
        },
        "480aef52859c4ea5aca01cd954c35d57": {
          "model_module": "@jupyter-widgets/base",
          "model_name": "LayoutModel",
          "model_module_version": "1.2.0",
          "state": {
            "_model_module": "@jupyter-widgets/base",
            "_model_module_version": "1.2.0",
            "_model_name": "LayoutModel",
            "_view_count": null,
            "_view_module": "@jupyter-widgets/base",
            "_view_module_version": "1.2.0",
            "_view_name": "LayoutView",
            "align_content": null,
            "align_items": null,
            "align_self": null,
            "border": null,
            "bottom": null,
            "display": null,
            "flex": null,
            "flex_flow": null,
            "grid_area": null,
            "grid_auto_columns": null,
            "grid_auto_flow": null,
            "grid_auto_rows": null,
            "grid_column": null,
            "grid_gap": null,
            "grid_row": null,
            "grid_template_areas": null,
            "grid_template_columns": null,
            "grid_template_rows": null,
            "height": null,
            "justify_content": null,
            "justify_items": null,
            "left": null,
            "margin": null,
            "max_height": null,
            "max_width": null,
            "min_height": null,
            "min_width": null,
            "object_fit": null,
            "object_position": null,
            "order": null,
            "overflow": null,
            "overflow_x": null,
            "overflow_y": null,
            "padding": null,
            "right": null,
            "top": null,
            "visibility": null,
            "width": null
          }
        },
        "0ea26000bdf345529d43d38055512851": {
          "model_module": "@jupyter-widgets/base",
          "model_name": "LayoutModel",
          "model_module_version": "1.2.0",
          "state": {
            "_model_module": "@jupyter-widgets/base",
            "_model_module_version": "1.2.0",
            "_model_name": "LayoutModel",
            "_view_count": null,
            "_view_module": "@jupyter-widgets/base",
            "_view_module_version": "1.2.0",
            "_view_name": "LayoutView",
            "align_content": null,
            "align_items": null,
            "align_self": null,
            "border": null,
            "bottom": null,
            "display": null,
            "flex": null,
            "flex_flow": null,
            "grid_area": null,
            "grid_auto_columns": null,
            "grid_auto_flow": null,
            "grid_auto_rows": null,
            "grid_column": null,
            "grid_gap": null,
            "grid_row": null,
            "grid_template_areas": null,
            "grid_template_columns": null,
            "grid_template_rows": null,
            "height": null,
            "justify_content": null,
            "justify_items": null,
            "left": null,
            "margin": null,
            "max_height": null,
            "max_width": null,
            "min_height": null,
            "min_width": null,
            "object_fit": null,
            "object_position": null,
            "order": null,
            "overflow": null,
            "overflow_x": null,
            "overflow_y": null,
            "padding": null,
            "right": null,
            "top": null,
            "visibility": null,
            "width": null
          }
        },
        "d0ec60f49f6f423190449f61164e8e5e": {
          "model_module": "@jupyter-widgets/controls",
          "model_name": "DescriptionStyleModel",
          "model_module_version": "1.5.0",
          "state": {
            "_model_module": "@jupyter-widgets/controls",
            "_model_module_version": "1.5.0",
            "_model_name": "DescriptionStyleModel",
            "_view_count": null,
            "_view_module": "@jupyter-widgets/base",
            "_view_module_version": "1.2.0",
            "_view_name": "StyleView",
            "description_width": ""
          }
        },
        "a20608bd31e34f2ea2777b1b6267ec69": {
          "model_module": "@jupyter-widgets/base",
          "model_name": "LayoutModel",
          "model_module_version": "1.2.0",
          "state": {
            "_model_module": "@jupyter-widgets/base",
            "_model_module_version": "1.2.0",
            "_model_name": "LayoutModel",
            "_view_count": null,
            "_view_module": "@jupyter-widgets/base",
            "_view_module_version": "1.2.0",
            "_view_name": "LayoutView",
            "align_content": null,
            "align_items": null,
            "align_self": null,
            "border": null,
            "bottom": null,
            "display": null,
            "flex": null,
            "flex_flow": null,
            "grid_area": null,
            "grid_auto_columns": null,
            "grid_auto_flow": null,
            "grid_auto_rows": null,
            "grid_column": null,
            "grid_gap": null,
            "grid_row": null,
            "grid_template_areas": null,
            "grid_template_columns": null,
            "grid_template_rows": null,
            "height": null,
            "justify_content": null,
            "justify_items": null,
            "left": null,
            "margin": null,
            "max_height": null,
            "max_width": null,
            "min_height": null,
            "min_width": null,
            "object_fit": null,
            "object_position": null,
            "order": null,
            "overflow": null,
            "overflow_x": null,
            "overflow_y": null,
            "padding": null,
            "right": null,
            "top": null,
            "visibility": null,
            "width": null
          }
        },
        "4c3967876c764eeeb6858c8f10ab73ca": {
          "model_module": "@jupyter-widgets/controls",
          "model_name": "ProgressStyleModel",
          "model_module_version": "1.5.0",
          "state": {
            "_model_module": "@jupyter-widgets/controls",
            "_model_module_version": "1.5.0",
            "_model_name": "ProgressStyleModel",
            "_view_count": null,
            "_view_module": "@jupyter-widgets/base",
            "_view_module_version": "1.2.0",
            "_view_name": "StyleView",
            "bar_color": null,
            "description_width": ""
          }
        },
        "bf0d3940da21493aa11f5d6540f9ba66": {
          "model_module": "@jupyter-widgets/base",
          "model_name": "LayoutModel",
          "model_module_version": "1.2.0",
          "state": {
            "_model_module": "@jupyter-widgets/base",
            "_model_module_version": "1.2.0",
            "_model_name": "LayoutModel",
            "_view_count": null,
            "_view_module": "@jupyter-widgets/base",
            "_view_module_version": "1.2.0",
            "_view_name": "LayoutView",
            "align_content": null,
            "align_items": null,
            "align_self": null,
            "border": null,
            "bottom": null,
            "display": null,
            "flex": null,
            "flex_flow": null,
            "grid_area": null,
            "grid_auto_columns": null,
            "grid_auto_flow": null,
            "grid_auto_rows": null,
            "grid_column": null,
            "grid_gap": null,
            "grid_row": null,
            "grid_template_areas": null,
            "grid_template_columns": null,
            "grid_template_rows": null,
            "height": null,
            "justify_content": null,
            "justify_items": null,
            "left": null,
            "margin": null,
            "max_height": null,
            "max_width": null,
            "min_height": null,
            "min_width": null,
            "object_fit": null,
            "object_position": null,
            "order": null,
            "overflow": null,
            "overflow_x": null,
            "overflow_y": null,
            "padding": null,
            "right": null,
            "top": null,
            "visibility": null,
            "width": null
          }
        },
        "85e61994a52748cbb137bcd745f3bc2f": {
          "model_module": "@jupyter-widgets/controls",
          "model_name": "DescriptionStyleModel",
          "model_module_version": "1.5.0",
          "state": {
            "_model_module": "@jupyter-widgets/controls",
            "_model_module_version": "1.5.0",
            "_model_name": "DescriptionStyleModel",
            "_view_count": null,
            "_view_module": "@jupyter-widgets/base",
            "_view_module_version": "1.2.0",
            "_view_name": "StyleView",
            "description_width": ""
          }
        },
        "022004dff23a435ea5775f2d13f66e43": {
          "model_module": "@jupyter-widgets/controls",
          "model_name": "HBoxModel",
          "model_module_version": "1.5.0",
          "state": {
            "_dom_classes": [],
            "_model_module": "@jupyter-widgets/controls",
            "_model_module_version": "1.5.0",
            "_model_name": "HBoxModel",
            "_view_count": null,
            "_view_module": "@jupyter-widgets/controls",
            "_view_module_version": "1.5.0",
            "_view_name": "HBoxView",
            "box_style": "",
            "children": [
              "IPY_MODEL_c5b927b564c54019805e1e9ec36ef384",
              "IPY_MODEL_d01a05dc05064d069acf9e25e723b5e1",
              "IPY_MODEL_a8e20c2049024f3b88e67d9714657119"
            ],
            "layout": "IPY_MODEL_b401985080c24c7eb0e2a00963b0e387"
          }
        },
        "c5b927b564c54019805e1e9ec36ef384": {
          "model_module": "@jupyter-widgets/controls",
          "model_name": "HTMLModel",
          "model_module_version": "1.5.0",
          "state": {
            "_dom_classes": [],
            "_model_module": "@jupyter-widgets/controls",
            "_model_module_version": "1.5.0",
            "_model_name": "HTMLModel",
            "_view_count": null,
            "_view_module": "@jupyter-widgets/controls",
            "_view_module_version": "1.5.0",
            "_view_name": "HTMLView",
            "description": "",
            "description_tooltip": null,
            "layout": "IPY_MODEL_f320f246bdee4f89be80268f06dc19ce",
            "placeholder": "​",
            "style": "IPY_MODEL_bc1143b1b6394442897139ee6720a045",
            "value": "100%"
          }
        },
        "d01a05dc05064d069acf9e25e723b5e1": {
          "model_module": "@jupyter-widgets/controls",
          "model_name": "FloatProgressModel",
          "model_module_version": "1.5.0",
          "state": {
            "_dom_classes": [],
            "_model_module": "@jupyter-widgets/controls",
            "_model_module_version": "1.5.0",
            "_model_name": "FloatProgressModel",
            "_view_count": null,
            "_view_module": "@jupyter-widgets/controls",
            "_view_module_version": "1.5.0",
            "_view_name": "ProgressView",
            "bar_style": "success",
            "description": "",
            "description_tooltip": null,
            "layout": "IPY_MODEL_8f19d29775f84f3a93d5681aa481dfcb",
            "max": 28881,
            "min": 0,
            "orientation": "horizontal",
            "style": "IPY_MODEL_e6a75c9fb4e049cc998c17f0b82a2068",
            "value": 28881
          }
        },
        "a8e20c2049024f3b88e67d9714657119": {
          "model_module": "@jupyter-widgets/controls",
          "model_name": "HTMLModel",
          "model_module_version": "1.5.0",
          "state": {
            "_dom_classes": [],
            "_model_module": "@jupyter-widgets/controls",
            "_model_module_version": "1.5.0",
            "_model_name": "HTMLModel",
            "_view_count": null,
            "_view_module": "@jupyter-widgets/controls",
            "_view_module_version": "1.5.0",
            "_view_name": "HTMLView",
            "description": "",
            "description_tooltip": null,
            "layout": "IPY_MODEL_410b029685ea41eb9f2aeb93d8c59fed",
            "placeholder": "​",
            "style": "IPY_MODEL_e528c30637284270b1d6a5a92aa451bd",
            "value": " 28881/28881 [00:00&lt;00:00, 657981.41it/s]"
          }
        },
        "b401985080c24c7eb0e2a00963b0e387": {
          "model_module": "@jupyter-widgets/base",
          "model_name": "LayoutModel",
          "model_module_version": "1.2.0",
          "state": {
            "_model_module": "@jupyter-widgets/base",
            "_model_module_version": "1.2.0",
            "_model_name": "LayoutModel",
            "_view_count": null,
            "_view_module": "@jupyter-widgets/base",
            "_view_module_version": "1.2.0",
            "_view_name": "LayoutView",
            "align_content": null,
            "align_items": null,
            "align_self": null,
            "border": null,
            "bottom": null,
            "display": null,
            "flex": null,
            "flex_flow": null,
            "grid_area": null,
            "grid_auto_columns": null,
            "grid_auto_flow": null,
            "grid_auto_rows": null,
            "grid_column": null,
            "grid_gap": null,
            "grid_row": null,
            "grid_template_areas": null,
            "grid_template_columns": null,
            "grid_template_rows": null,
            "height": null,
            "justify_content": null,
            "justify_items": null,
            "left": null,
            "margin": null,
            "max_height": null,
            "max_width": null,
            "min_height": null,
            "min_width": null,
            "object_fit": null,
            "object_position": null,
            "order": null,
            "overflow": null,
            "overflow_x": null,
            "overflow_y": null,
            "padding": null,
            "right": null,
            "top": null,
            "visibility": null,
            "width": null
          }
        },
        "f320f246bdee4f89be80268f06dc19ce": {
          "model_module": "@jupyter-widgets/base",
          "model_name": "LayoutModel",
          "model_module_version": "1.2.0",
          "state": {
            "_model_module": "@jupyter-widgets/base",
            "_model_module_version": "1.2.0",
            "_model_name": "LayoutModel",
            "_view_count": null,
            "_view_module": "@jupyter-widgets/base",
            "_view_module_version": "1.2.0",
            "_view_name": "LayoutView",
            "align_content": null,
            "align_items": null,
            "align_self": null,
            "border": null,
            "bottom": null,
            "display": null,
            "flex": null,
            "flex_flow": null,
            "grid_area": null,
            "grid_auto_columns": null,
            "grid_auto_flow": null,
            "grid_auto_rows": null,
            "grid_column": null,
            "grid_gap": null,
            "grid_row": null,
            "grid_template_areas": null,
            "grid_template_columns": null,
            "grid_template_rows": null,
            "height": null,
            "justify_content": null,
            "justify_items": null,
            "left": null,
            "margin": null,
            "max_height": null,
            "max_width": null,
            "min_height": null,
            "min_width": null,
            "object_fit": null,
            "object_position": null,
            "order": null,
            "overflow": null,
            "overflow_x": null,
            "overflow_y": null,
            "padding": null,
            "right": null,
            "top": null,
            "visibility": null,
            "width": null
          }
        },
        "bc1143b1b6394442897139ee6720a045": {
          "model_module": "@jupyter-widgets/controls",
          "model_name": "DescriptionStyleModel",
          "model_module_version": "1.5.0",
          "state": {
            "_model_module": "@jupyter-widgets/controls",
            "_model_module_version": "1.5.0",
            "_model_name": "DescriptionStyleModel",
            "_view_count": null,
            "_view_module": "@jupyter-widgets/base",
            "_view_module_version": "1.2.0",
            "_view_name": "StyleView",
            "description_width": ""
          }
        },
        "8f19d29775f84f3a93d5681aa481dfcb": {
          "model_module": "@jupyter-widgets/base",
          "model_name": "LayoutModel",
          "model_module_version": "1.2.0",
          "state": {
            "_model_module": "@jupyter-widgets/base",
            "_model_module_version": "1.2.0",
            "_model_name": "LayoutModel",
            "_view_count": null,
            "_view_module": "@jupyter-widgets/base",
            "_view_module_version": "1.2.0",
            "_view_name": "LayoutView",
            "align_content": null,
            "align_items": null,
            "align_self": null,
            "border": null,
            "bottom": null,
            "display": null,
            "flex": null,
            "flex_flow": null,
            "grid_area": null,
            "grid_auto_columns": null,
            "grid_auto_flow": null,
            "grid_auto_rows": null,
            "grid_column": null,
            "grid_gap": null,
            "grid_row": null,
            "grid_template_areas": null,
            "grid_template_columns": null,
            "grid_template_rows": null,
            "height": null,
            "justify_content": null,
            "justify_items": null,
            "left": null,
            "margin": null,
            "max_height": null,
            "max_width": null,
            "min_height": null,
            "min_width": null,
            "object_fit": null,
            "object_position": null,
            "order": null,
            "overflow": null,
            "overflow_x": null,
            "overflow_y": null,
            "padding": null,
            "right": null,
            "top": null,
            "visibility": null,
            "width": null
          }
        },
        "e6a75c9fb4e049cc998c17f0b82a2068": {
          "model_module": "@jupyter-widgets/controls",
          "model_name": "ProgressStyleModel",
          "model_module_version": "1.5.0",
          "state": {
            "_model_module": "@jupyter-widgets/controls",
            "_model_module_version": "1.5.0",
            "_model_name": "ProgressStyleModel",
            "_view_count": null,
            "_view_module": "@jupyter-widgets/base",
            "_view_module_version": "1.2.0",
            "_view_name": "StyleView",
            "bar_color": null,
            "description_width": ""
          }
        },
        "410b029685ea41eb9f2aeb93d8c59fed": {
          "model_module": "@jupyter-widgets/base",
          "model_name": "LayoutModel",
          "model_module_version": "1.2.0",
          "state": {
            "_model_module": "@jupyter-widgets/base",
            "_model_module_version": "1.2.0",
            "_model_name": "LayoutModel",
            "_view_count": null,
            "_view_module": "@jupyter-widgets/base",
            "_view_module_version": "1.2.0",
            "_view_name": "LayoutView",
            "align_content": null,
            "align_items": null,
            "align_self": null,
            "border": null,
            "bottom": null,
            "display": null,
            "flex": null,
            "flex_flow": null,
            "grid_area": null,
            "grid_auto_columns": null,
            "grid_auto_flow": null,
            "grid_auto_rows": null,
            "grid_column": null,
            "grid_gap": null,
            "grid_row": null,
            "grid_template_areas": null,
            "grid_template_columns": null,
            "grid_template_rows": null,
            "height": null,
            "justify_content": null,
            "justify_items": null,
            "left": null,
            "margin": null,
            "max_height": null,
            "max_width": null,
            "min_height": null,
            "min_width": null,
            "object_fit": null,
            "object_position": null,
            "order": null,
            "overflow": null,
            "overflow_x": null,
            "overflow_y": null,
            "padding": null,
            "right": null,
            "top": null,
            "visibility": null,
            "width": null
          }
        },
        "e528c30637284270b1d6a5a92aa451bd": {
          "model_module": "@jupyter-widgets/controls",
          "model_name": "DescriptionStyleModel",
          "model_module_version": "1.5.0",
          "state": {
            "_model_module": "@jupyter-widgets/controls",
            "_model_module_version": "1.5.0",
            "_model_name": "DescriptionStyleModel",
            "_view_count": null,
            "_view_module": "@jupyter-widgets/base",
            "_view_module_version": "1.2.0",
            "_view_name": "StyleView",
            "description_width": ""
          }
        },
        "9e5671840a834427b3334650d1957401": {
          "model_module": "@jupyter-widgets/controls",
          "model_name": "HBoxModel",
          "model_module_version": "1.5.0",
          "state": {
            "_dom_classes": [],
            "_model_module": "@jupyter-widgets/controls",
            "_model_module_version": "1.5.0",
            "_model_name": "HBoxModel",
            "_view_count": null,
            "_view_module": "@jupyter-widgets/controls",
            "_view_module_version": "1.5.0",
            "_view_name": "HBoxView",
            "box_style": "",
            "children": [
              "IPY_MODEL_8acc43c16749435c9d88834feba148aa",
              "IPY_MODEL_15727ef799264504aa27aad0df0406e3",
              "IPY_MODEL_81711601feae4a6ab6b471a3069e6a38"
            ],
            "layout": "IPY_MODEL_aa05d765cfca4c4095e058a01996c48b"
          }
        },
        "8acc43c16749435c9d88834feba148aa": {
          "model_module": "@jupyter-widgets/controls",
          "model_name": "HTMLModel",
          "model_module_version": "1.5.0",
          "state": {
            "_dom_classes": [],
            "_model_module": "@jupyter-widgets/controls",
            "_model_module_version": "1.5.0",
            "_model_name": "HTMLModel",
            "_view_count": null,
            "_view_module": "@jupyter-widgets/controls",
            "_view_module_version": "1.5.0",
            "_view_name": "HTMLView",
            "description": "",
            "description_tooltip": null,
            "layout": "IPY_MODEL_104057f1a7dc4ab18f93e1fcdc2c1c72",
            "placeholder": "​",
            "style": "IPY_MODEL_8b44c753553f42cfa15f2d0d3d4649f5",
            "value": "100%"
          }
        },
        "15727ef799264504aa27aad0df0406e3": {
          "model_module": "@jupyter-widgets/controls",
          "model_name": "FloatProgressModel",
          "model_module_version": "1.5.0",
          "state": {
            "_dom_classes": [],
            "_model_module": "@jupyter-widgets/controls",
            "_model_module_version": "1.5.0",
            "_model_name": "FloatProgressModel",
            "_view_count": null,
            "_view_module": "@jupyter-widgets/controls",
            "_view_module_version": "1.5.0",
            "_view_name": "ProgressView",
            "bar_style": "success",
            "description": "",
            "description_tooltip": null,
            "layout": "IPY_MODEL_8f96d27c042a4337a4e3a69bd6e96907",
            "max": 1648877,
            "min": 0,
            "orientation": "horizontal",
            "style": "IPY_MODEL_f971dc0e2b5f4b4bad026276d79e010d",
            "value": 1648877
          }
        },
        "81711601feae4a6ab6b471a3069e6a38": {
          "model_module": "@jupyter-widgets/controls",
          "model_name": "HTMLModel",
          "model_module_version": "1.5.0",
          "state": {
            "_dom_classes": [],
            "_model_module": "@jupyter-widgets/controls",
            "_model_module_version": "1.5.0",
            "_model_name": "HTMLModel",
            "_view_count": null,
            "_view_module": "@jupyter-widgets/controls",
            "_view_module_version": "1.5.0",
            "_view_name": "HTMLView",
            "description": "",
            "description_tooltip": null,
            "layout": "IPY_MODEL_d338f7d2cba64b8a88ebb8395500b329",
            "placeholder": "​",
            "style": "IPY_MODEL_e0eb71cbd06b40639b7b8a26925ed3b7",
            "value": " 1648877/1648877 [00:00&lt;00:00, 17105798.39it/s]"
          }
        },
        "aa05d765cfca4c4095e058a01996c48b": {
          "model_module": "@jupyter-widgets/base",
          "model_name": "LayoutModel",
          "model_module_version": "1.2.0",
          "state": {
            "_model_module": "@jupyter-widgets/base",
            "_model_module_version": "1.2.0",
            "_model_name": "LayoutModel",
            "_view_count": null,
            "_view_module": "@jupyter-widgets/base",
            "_view_module_version": "1.2.0",
            "_view_name": "LayoutView",
            "align_content": null,
            "align_items": null,
            "align_self": null,
            "border": null,
            "bottom": null,
            "display": null,
            "flex": null,
            "flex_flow": null,
            "grid_area": null,
            "grid_auto_columns": null,
            "grid_auto_flow": null,
            "grid_auto_rows": null,
            "grid_column": null,
            "grid_gap": null,
            "grid_row": null,
            "grid_template_areas": null,
            "grid_template_columns": null,
            "grid_template_rows": null,
            "height": null,
            "justify_content": null,
            "justify_items": null,
            "left": null,
            "margin": null,
            "max_height": null,
            "max_width": null,
            "min_height": null,
            "min_width": null,
            "object_fit": null,
            "object_position": null,
            "order": null,
            "overflow": null,
            "overflow_x": null,
            "overflow_y": null,
            "padding": null,
            "right": null,
            "top": null,
            "visibility": null,
            "width": null
          }
        },
        "104057f1a7dc4ab18f93e1fcdc2c1c72": {
          "model_module": "@jupyter-widgets/base",
          "model_name": "LayoutModel",
          "model_module_version": "1.2.0",
          "state": {
            "_model_module": "@jupyter-widgets/base",
            "_model_module_version": "1.2.0",
            "_model_name": "LayoutModel",
            "_view_count": null,
            "_view_module": "@jupyter-widgets/base",
            "_view_module_version": "1.2.0",
            "_view_name": "LayoutView",
            "align_content": null,
            "align_items": null,
            "align_self": null,
            "border": null,
            "bottom": null,
            "display": null,
            "flex": null,
            "flex_flow": null,
            "grid_area": null,
            "grid_auto_columns": null,
            "grid_auto_flow": null,
            "grid_auto_rows": null,
            "grid_column": null,
            "grid_gap": null,
            "grid_row": null,
            "grid_template_areas": null,
            "grid_template_columns": null,
            "grid_template_rows": null,
            "height": null,
            "justify_content": null,
            "justify_items": null,
            "left": null,
            "margin": null,
            "max_height": null,
            "max_width": null,
            "min_height": null,
            "min_width": null,
            "object_fit": null,
            "object_position": null,
            "order": null,
            "overflow": null,
            "overflow_x": null,
            "overflow_y": null,
            "padding": null,
            "right": null,
            "top": null,
            "visibility": null,
            "width": null
          }
        },
        "8b44c753553f42cfa15f2d0d3d4649f5": {
          "model_module": "@jupyter-widgets/controls",
          "model_name": "DescriptionStyleModel",
          "model_module_version": "1.5.0",
          "state": {
            "_model_module": "@jupyter-widgets/controls",
            "_model_module_version": "1.5.0",
            "_model_name": "DescriptionStyleModel",
            "_view_count": null,
            "_view_module": "@jupyter-widgets/base",
            "_view_module_version": "1.2.0",
            "_view_name": "StyleView",
            "description_width": ""
          }
        },
        "8f96d27c042a4337a4e3a69bd6e96907": {
          "model_module": "@jupyter-widgets/base",
          "model_name": "LayoutModel",
          "model_module_version": "1.2.0",
          "state": {
            "_model_module": "@jupyter-widgets/base",
            "_model_module_version": "1.2.0",
            "_model_name": "LayoutModel",
            "_view_count": null,
            "_view_module": "@jupyter-widgets/base",
            "_view_module_version": "1.2.0",
            "_view_name": "LayoutView",
            "align_content": null,
            "align_items": null,
            "align_self": null,
            "border": null,
            "bottom": null,
            "display": null,
            "flex": null,
            "flex_flow": null,
            "grid_area": null,
            "grid_auto_columns": null,
            "grid_auto_flow": null,
            "grid_auto_rows": null,
            "grid_column": null,
            "grid_gap": null,
            "grid_row": null,
            "grid_template_areas": null,
            "grid_template_columns": null,
            "grid_template_rows": null,
            "height": null,
            "justify_content": null,
            "justify_items": null,
            "left": null,
            "margin": null,
            "max_height": null,
            "max_width": null,
            "min_height": null,
            "min_width": null,
            "object_fit": null,
            "object_position": null,
            "order": null,
            "overflow": null,
            "overflow_x": null,
            "overflow_y": null,
            "padding": null,
            "right": null,
            "top": null,
            "visibility": null,
            "width": null
          }
        },
        "f971dc0e2b5f4b4bad026276d79e010d": {
          "model_module": "@jupyter-widgets/controls",
          "model_name": "ProgressStyleModel",
          "model_module_version": "1.5.0",
          "state": {
            "_model_module": "@jupyter-widgets/controls",
            "_model_module_version": "1.5.0",
            "_model_name": "ProgressStyleModel",
            "_view_count": null,
            "_view_module": "@jupyter-widgets/base",
            "_view_module_version": "1.2.0",
            "_view_name": "StyleView",
            "bar_color": null,
            "description_width": ""
          }
        },
        "d338f7d2cba64b8a88ebb8395500b329": {
          "model_module": "@jupyter-widgets/base",
          "model_name": "LayoutModel",
          "model_module_version": "1.2.0",
          "state": {
            "_model_module": "@jupyter-widgets/base",
            "_model_module_version": "1.2.0",
            "_model_name": "LayoutModel",
            "_view_count": null,
            "_view_module": "@jupyter-widgets/base",
            "_view_module_version": "1.2.0",
            "_view_name": "LayoutView",
            "align_content": null,
            "align_items": null,
            "align_self": null,
            "border": null,
            "bottom": null,
            "display": null,
            "flex": null,
            "flex_flow": null,
            "grid_area": null,
            "grid_auto_columns": null,
            "grid_auto_flow": null,
            "grid_auto_rows": null,
            "grid_column": null,
            "grid_gap": null,
            "grid_row": null,
            "grid_template_areas": null,
            "grid_template_columns": null,
            "grid_template_rows": null,
            "height": null,
            "justify_content": null,
            "justify_items": null,
            "left": null,
            "margin": null,
            "max_height": null,
            "max_width": null,
            "min_height": null,
            "min_width": null,
            "object_fit": null,
            "object_position": null,
            "order": null,
            "overflow": null,
            "overflow_x": null,
            "overflow_y": null,
            "padding": null,
            "right": null,
            "top": null,
            "visibility": null,
            "width": null
          }
        },
        "e0eb71cbd06b40639b7b8a26925ed3b7": {
          "model_module": "@jupyter-widgets/controls",
          "model_name": "DescriptionStyleModel",
          "model_module_version": "1.5.0",
          "state": {
            "_model_module": "@jupyter-widgets/controls",
            "_model_module_version": "1.5.0",
            "_model_name": "DescriptionStyleModel",
            "_view_count": null,
            "_view_module": "@jupyter-widgets/base",
            "_view_module_version": "1.2.0",
            "_view_name": "StyleView",
            "description_width": ""
          }
        },
        "6b5097f478144fb4baf238d6ffd27ad6": {
          "model_module": "@jupyter-widgets/controls",
          "model_name": "HBoxModel",
          "model_module_version": "1.5.0",
          "state": {
            "_dom_classes": [],
            "_model_module": "@jupyter-widgets/controls",
            "_model_module_version": "1.5.0",
            "_model_name": "HBoxModel",
            "_view_count": null,
            "_view_module": "@jupyter-widgets/controls",
            "_view_module_version": "1.5.0",
            "_view_name": "HBoxView",
            "box_style": "",
            "children": [
              "IPY_MODEL_1524ed6ea39340bf929cc89c9bb6643c",
              "IPY_MODEL_29cfe311c8ef4f8898312278a5e44ff5",
              "IPY_MODEL_9e7a69967a634c80a2deea573bcb1fa0"
            ],
            "layout": "IPY_MODEL_29782cc59614436284066ab3e8892ef7"
          }
        },
        "1524ed6ea39340bf929cc89c9bb6643c": {
          "model_module": "@jupyter-widgets/controls",
          "model_name": "HTMLModel",
          "model_module_version": "1.5.0",
          "state": {
            "_dom_classes": [],
            "_model_module": "@jupyter-widgets/controls",
            "_model_module_version": "1.5.0",
            "_model_name": "HTMLModel",
            "_view_count": null,
            "_view_module": "@jupyter-widgets/controls",
            "_view_module_version": "1.5.0",
            "_view_name": "HTMLView",
            "description": "",
            "description_tooltip": null,
            "layout": "IPY_MODEL_a89cd654076543a8b8611993d428dff9",
            "placeholder": "​",
            "style": "IPY_MODEL_49f73ef1c66f484b9894d7ee8810b6da",
            "value": "100%"
          }
        },
        "29cfe311c8ef4f8898312278a5e44ff5": {
          "model_module": "@jupyter-widgets/controls",
          "model_name": "FloatProgressModel",
          "model_module_version": "1.5.0",
          "state": {
            "_dom_classes": [],
            "_model_module": "@jupyter-widgets/controls",
            "_model_module_version": "1.5.0",
            "_model_name": "FloatProgressModel",
            "_view_count": null,
            "_view_module": "@jupyter-widgets/controls",
            "_view_module_version": "1.5.0",
            "_view_name": "ProgressView",
            "bar_style": "success",
            "description": "",
            "description_tooltip": null,
            "layout": "IPY_MODEL_2eae774a23a44019900e67fccd01df41",
            "max": 4542,
            "min": 0,
            "orientation": "horizontal",
            "style": "IPY_MODEL_dca2fc81bce142ef80dcd0855d6ebf7e",
            "value": 4542
          }
        },
        "9e7a69967a634c80a2deea573bcb1fa0": {
          "model_module": "@jupyter-widgets/controls",
          "model_name": "HTMLModel",
          "model_module_version": "1.5.0",
          "state": {
            "_dom_classes": [],
            "_model_module": "@jupyter-widgets/controls",
            "_model_module_version": "1.5.0",
            "_model_name": "HTMLModel",
            "_view_count": null,
            "_view_module": "@jupyter-widgets/controls",
            "_view_module_version": "1.5.0",
            "_view_name": "HTMLView",
            "description": "",
            "description_tooltip": null,
            "layout": "IPY_MODEL_2fd1e88f8c3147518c61ea82db0dcf33",
            "placeholder": "​",
            "style": "IPY_MODEL_e4090b3c3c0643b7b188d41e8ac25fc9",
            "value": " 4542/4542 [00:00&lt;00:00, 147111.74it/s]"
          }
        },
        "29782cc59614436284066ab3e8892ef7": {
          "model_module": "@jupyter-widgets/base",
          "model_name": "LayoutModel",
          "model_module_version": "1.2.0",
          "state": {
            "_model_module": "@jupyter-widgets/base",
            "_model_module_version": "1.2.0",
            "_model_name": "LayoutModel",
            "_view_count": null,
            "_view_module": "@jupyter-widgets/base",
            "_view_module_version": "1.2.0",
            "_view_name": "LayoutView",
            "align_content": null,
            "align_items": null,
            "align_self": null,
            "border": null,
            "bottom": null,
            "display": null,
            "flex": null,
            "flex_flow": null,
            "grid_area": null,
            "grid_auto_columns": null,
            "grid_auto_flow": null,
            "grid_auto_rows": null,
            "grid_column": null,
            "grid_gap": null,
            "grid_row": null,
            "grid_template_areas": null,
            "grid_template_columns": null,
            "grid_template_rows": null,
            "height": null,
            "justify_content": null,
            "justify_items": null,
            "left": null,
            "margin": null,
            "max_height": null,
            "max_width": null,
            "min_height": null,
            "min_width": null,
            "object_fit": null,
            "object_position": null,
            "order": null,
            "overflow": null,
            "overflow_x": null,
            "overflow_y": null,
            "padding": null,
            "right": null,
            "top": null,
            "visibility": null,
            "width": null
          }
        },
        "a89cd654076543a8b8611993d428dff9": {
          "model_module": "@jupyter-widgets/base",
          "model_name": "LayoutModel",
          "model_module_version": "1.2.0",
          "state": {
            "_model_module": "@jupyter-widgets/base",
            "_model_module_version": "1.2.0",
            "_model_name": "LayoutModel",
            "_view_count": null,
            "_view_module": "@jupyter-widgets/base",
            "_view_module_version": "1.2.0",
            "_view_name": "LayoutView",
            "align_content": null,
            "align_items": null,
            "align_self": null,
            "border": null,
            "bottom": null,
            "display": null,
            "flex": null,
            "flex_flow": null,
            "grid_area": null,
            "grid_auto_columns": null,
            "grid_auto_flow": null,
            "grid_auto_rows": null,
            "grid_column": null,
            "grid_gap": null,
            "grid_row": null,
            "grid_template_areas": null,
            "grid_template_columns": null,
            "grid_template_rows": null,
            "height": null,
            "justify_content": null,
            "justify_items": null,
            "left": null,
            "margin": null,
            "max_height": null,
            "max_width": null,
            "min_height": null,
            "min_width": null,
            "object_fit": null,
            "object_position": null,
            "order": null,
            "overflow": null,
            "overflow_x": null,
            "overflow_y": null,
            "padding": null,
            "right": null,
            "top": null,
            "visibility": null,
            "width": null
          }
        },
        "49f73ef1c66f484b9894d7ee8810b6da": {
          "model_module": "@jupyter-widgets/controls",
          "model_name": "DescriptionStyleModel",
          "model_module_version": "1.5.0",
          "state": {
            "_model_module": "@jupyter-widgets/controls",
            "_model_module_version": "1.5.0",
            "_model_name": "DescriptionStyleModel",
            "_view_count": null,
            "_view_module": "@jupyter-widgets/base",
            "_view_module_version": "1.2.0",
            "_view_name": "StyleView",
            "description_width": ""
          }
        },
        "2eae774a23a44019900e67fccd01df41": {
          "model_module": "@jupyter-widgets/base",
          "model_name": "LayoutModel",
          "model_module_version": "1.2.0",
          "state": {
            "_model_module": "@jupyter-widgets/base",
            "_model_module_version": "1.2.0",
            "_model_name": "LayoutModel",
            "_view_count": null,
            "_view_module": "@jupyter-widgets/base",
            "_view_module_version": "1.2.0",
            "_view_name": "LayoutView",
            "align_content": null,
            "align_items": null,
            "align_self": null,
            "border": null,
            "bottom": null,
            "display": null,
            "flex": null,
            "flex_flow": null,
            "grid_area": null,
            "grid_auto_columns": null,
            "grid_auto_flow": null,
            "grid_auto_rows": null,
            "grid_column": null,
            "grid_gap": null,
            "grid_row": null,
            "grid_template_areas": null,
            "grid_template_columns": null,
            "grid_template_rows": null,
            "height": null,
            "justify_content": null,
            "justify_items": null,
            "left": null,
            "margin": null,
            "max_height": null,
            "max_width": null,
            "min_height": null,
            "min_width": null,
            "object_fit": null,
            "object_position": null,
            "order": null,
            "overflow": null,
            "overflow_x": null,
            "overflow_y": null,
            "padding": null,
            "right": null,
            "top": null,
            "visibility": null,
            "width": null
          }
        },
        "dca2fc81bce142ef80dcd0855d6ebf7e": {
          "model_module": "@jupyter-widgets/controls",
          "model_name": "ProgressStyleModel",
          "model_module_version": "1.5.0",
          "state": {
            "_model_module": "@jupyter-widgets/controls",
            "_model_module_version": "1.5.0",
            "_model_name": "ProgressStyleModel",
            "_view_count": null,
            "_view_module": "@jupyter-widgets/base",
            "_view_module_version": "1.2.0",
            "_view_name": "StyleView",
            "bar_color": null,
            "description_width": ""
          }
        },
        "2fd1e88f8c3147518c61ea82db0dcf33": {
          "model_module": "@jupyter-widgets/base",
          "model_name": "LayoutModel",
          "model_module_version": "1.2.0",
          "state": {
            "_model_module": "@jupyter-widgets/base",
            "_model_module_version": "1.2.0",
            "_model_name": "LayoutModel",
            "_view_count": null,
            "_view_module": "@jupyter-widgets/base",
            "_view_module_version": "1.2.0",
            "_view_name": "LayoutView",
            "align_content": null,
            "align_items": null,
            "align_self": null,
            "border": null,
            "bottom": null,
            "display": null,
            "flex": null,
            "flex_flow": null,
            "grid_area": null,
            "grid_auto_columns": null,
            "grid_auto_flow": null,
            "grid_auto_rows": null,
            "grid_column": null,
            "grid_gap": null,
            "grid_row": null,
            "grid_template_areas": null,
            "grid_template_columns": null,
            "grid_template_rows": null,
            "height": null,
            "justify_content": null,
            "justify_items": null,
            "left": null,
            "margin": null,
            "max_height": null,
            "max_width": null,
            "min_height": null,
            "min_width": null,
            "object_fit": null,
            "object_position": null,
            "order": null,
            "overflow": null,
            "overflow_x": null,
            "overflow_y": null,
            "padding": null,
            "right": null,
            "top": null,
            "visibility": null,
            "width": null
          }
        },
        "e4090b3c3c0643b7b188d41e8ac25fc9": {
          "model_module": "@jupyter-widgets/controls",
          "model_name": "DescriptionStyleModel",
          "model_module_version": "1.5.0",
          "state": {
            "_model_module": "@jupyter-widgets/controls",
            "_model_module_version": "1.5.0",
            "_model_name": "DescriptionStyleModel",
            "_view_count": null,
            "_view_module": "@jupyter-widgets/base",
            "_view_module_version": "1.2.0",
            "_view_name": "StyleView",
            "description_width": ""
          }
        }
      }
    }
  },
  "nbformat": 4,
  "nbformat_minor": 0
}